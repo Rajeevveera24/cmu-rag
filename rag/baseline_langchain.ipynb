{
 "cells": [
  {
   "cell_type": "code",
   "execution_count": 1,
   "metadata": {},
   "outputs": [
    {
     "name": "stdout",
     "output_type": "stream",
     "text": [
      "Requirement already satisfied: langchain in /home/raj/anaconda3/envs/cmu_rag/lib/python3.11/site-packages (0.1.9)\n",
      "Requirement already satisfied: langchain-community in /home/raj/anaconda3/envs/cmu_rag/lib/python3.11/site-packages (0.0.24)\n",
      "Requirement already satisfied: langchainhub in /home/raj/anaconda3/envs/cmu_rag/lib/python3.11/site-packages (0.1.14)\n",
      "Requirement already satisfied: gpt4all in /home/raj/anaconda3/envs/cmu_rag/lib/python3.11/site-packages (2.2.1.post1)\n",
      "Requirement already satisfied: chromadb in /home/raj/anaconda3/envs/cmu_rag/lib/python3.11/site-packages (0.4.23)\n",
      "Requirement already satisfied: bs4 in /home/raj/anaconda3/envs/cmu_rag/lib/python3.11/site-packages (0.0.2)\n",
      "Requirement already satisfied: PyYAML>=5.3 in /home/raj/anaconda3/envs/cmu_rag/lib/python3.11/site-packages (from langchain) (6.0.1)\n",
      "Requirement already satisfied: SQLAlchemy<3,>=1.4 in /home/raj/anaconda3/envs/cmu_rag/lib/python3.11/site-packages (from langchain) (2.0.27)\n",
      "Requirement already satisfied: aiohttp<4.0.0,>=3.8.3 in /home/raj/anaconda3/envs/cmu_rag/lib/python3.11/site-packages (from langchain) (3.9.3)\n",
      "Requirement already satisfied: dataclasses-json<0.7,>=0.5.7 in /home/raj/anaconda3/envs/cmu_rag/lib/python3.11/site-packages (from langchain) (0.6.4)\n",
      "Requirement already satisfied: jsonpatch<2.0,>=1.33 in /home/raj/anaconda3/envs/cmu_rag/lib/python3.11/site-packages (from langchain) (1.33)\n",
      "Requirement already satisfied: langchain-core<0.2,>=0.1.26 in /home/raj/anaconda3/envs/cmu_rag/lib/python3.11/site-packages (from langchain) (0.1.26)\n",
      "Requirement already satisfied: langsmith<0.2.0,>=0.1.0 in /home/raj/anaconda3/envs/cmu_rag/lib/python3.11/site-packages (from langchain) (0.1.8)\n",
      "Requirement already satisfied: numpy<2,>=1 in /home/raj/anaconda3/envs/cmu_rag/lib/python3.11/site-packages (from langchain) (1.26.4)\n",
      "Requirement already satisfied: pydantic<3,>=1 in /home/raj/anaconda3/envs/cmu_rag/lib/python3.11/site-packages (from langchain) (2.6.2)\n",
      "Requirement already satisfied: requests<3,>=2 in /home/raj/anaconda3/envs/cmu_rag/lib/python3.11/site-packages (from langchain) (2.31.0)\n",
      "Requirement already satisfied: tenacity<9.0.0,>=8.1.0 in /home/raj/anaconda3/envs/cmu_rag/lib/python3.11/site-packages (from langchain) (8.2.3)\n",
      "Requirement already satisfied: types-requests<3.0.0.0,>=2.31.0.2 in /home/raj/anaconda3/envs/cmu_rag/lib/python3.11/site-packages (from langchainhub) (2.31.0.20240218)\n",
      "Requirement already satisfied: tqdm in /home/raj/anaconda3/envs/cmu_rag/lib/python3.11/site-packages (from gpt4all) (4.66.2)\n",
      "Requirement already satisfied: build>=1.0.3 in /home/raj/anaconda3/envs/cmu_rag/lib/python3.11/site-packages (from chromadb) (1.0.3)\n",
      "Requirement already satisfied: chroma-hnswlib==0.7.3 in /home/raj/anaconda3/envs/cmu_rag/lib/python3.11/site-packages (from chromadb) (0.7.3)\n",
      "Requirement already satisfied: fastapi>=0.95.2 in /home/raj/anaconda3/envs/cmu_rag/lib/python3.11/site-packages (from chromadb) (0.110.0)\n",
      "Requirement already satisfied: uvicorn>=0.18.3 in /home/raj/anaconda3/envs/cmu_rag/lib/python3.11/site-packages (from uvicorn[standard]>=0.18.3->chromadb) (0.27.1)\n",
      "Requirement already satisfied: posthog>=2.4.0 in /home/raj/anaconda3/envs/cmu_rag/lib/python3.11/site-packages (from chromadb) (3.4.2)\n",
      "Requirement already satisfied: typing-extensions>=4.5.0 in /home/raj/anaconda3/envs/cmu_rag/lib/python3.11/site-packages (from chromadb) (4.9.0)\n",
      "Requirement already satisfied: pulsar-client>=3.1.0 in /home/raj/anaconda3/envs/cmu_rag/lib/python3.11/site-packages (from chromadb) (3.4.0)\n",
      "Requirement already satisfied: onnxruntime>=1.14.1 in /home/raj/anaconda3/envs/cmu_rag/lib/python3.11/site-packages (from chromadb) (1.17.1)\n",
      "Requirement already satisfied: opentelemetry-api>=1.2.0 in /home/raj/anaconda3/envs/cmu_rag/lib/python3.11/site-packages (from chromadb) (1.23.0)\n",
      "Requirement already satisfied: opentelemetry-exporter-otlp-proto-grpc>=1.2.0 in /home/raj/anaconda3/envs/cmu_rag/lib/python3.11/site-packages (from chromadb) (1.23.0)\n",
      "Requirement already satisfied: opentelemetry-instrumentation-fastapi>=0.41b0 in /home/raj/anaconda3/envs/cmu_rag/lib/python3.11/site-packages (from chromadb) (0.44b0)\n",
      "Requirement already satisfied: opentelemetry-sdk>=1.2.0 in /home/raj/anaconda3/envs/cmu_rag/lib/python3.11/site-packages (from chromadb) (1.23.0)\n",
      "Requirement already satisfied: tokenizers>=0.13.2 in /home/raj/anaconda3/envs/cmu_rag/lib/python3.11/site-packages (from chromadb) (0.15.2)\n",
      "Requirement already satisfied: pypika>=0.48.9 in /home/raj/anaconda3/envs/cmu_rag/lib/python3.11/site-packages (from chromadb) (0.48.9)\n",
      "Requirement already satisfied: overrides>=7.3.1 in /home/raj/anaconda3/envs/cmu_rag/lib/python3.11/site-packages (from chromadb) (7.7.0)\n",
      "Requirement already satisfied: importlib-resources in /home/raj/anaconda3/envs/cmu_rag/lib/python3.11/site-packages (from chromadb) (6.1.1)\n",
      "Requirement already satisfied: grpcio>=1.58.0 in /home/raj/anaconda3/envs/cmu_rag/lib/python3.11/site-packages (from chromadb) (1.62.0)\n",
      "Requirement already satisfied: bcrypt>=4.0.1 in /home/raj/anaconda3/envs/cmu_rag/lib/python3.11/site-packages (from chromadb) (4.1.2)\n",
      "Requirement already satisfied: typer>=0.9.0 in /home/raj/anaconda3/envs/cmu_rag/lib/python3.11/site-packages (from chromadb) (0.9.0)\n",
      "Requirement already satisfied: kubernetes>=28.1.0 in /home/raj/anaconda3/envs/cmu_rag/lib/python3.11/site-packages (from chromadb) (29.0.0)\n",
      "Requirement already satisfied: mmh3>=4.0.1 in /home/raj/anaconda3/envs/cmu_rag/lib/python3.11/site-packages (from chromadb) (4.1.0)\n",
      "Requirement already satisfied: orjson>=3.9.12 in /home/raj/anaconda3/envs/cmu_rag/lib/python3.11/site-packages (from chromadb) (3.9.15)\n",
      "Requirement already satisfied: beautifulsoup4 in /home/raj/anaconda3/envs/cmu_rag/lib/python3.11/site-packages (from bs4) (4.12.3)\n",
      "Requirement already satisfied: aiosignal>=1.1.2 in /home/raj/anaconda3/envs/cmu_rag/lib/python3.11/site-packages (from aiohttp<4.0.0,>=3.8.3->langchain) (1.3.1)\n",
      "Requirement already satisfied: attrs>=17.3.0 in /home/raj/anaconda3/envs/cmu_rag/lib/python3.11/site-packages (from aiohttp<4.0.0,>=3.8.3->langchain) (23.2.0)\n",
      "Requirement already satisfied: frozenlist>=1.1.1 in /home/raj/anaconda3/envs/cmu_rag/lib/python3.11/site-packages (from aiohttp<4.0.0,>=3.8.3->langchain) (1.4.1)\n",
      "Requirement already satisfied: multidict<7.0,>=4.5 in /home/raj/anaconda3/envs/cmu_rag/lib/python3.11/site-packages (from aiohttp<4.0.0,>=3.8.3->langchain) (6.0.5)\n",
      "Requirement already satisfied: yarl<2.0,>=1.0 in /home/raj/anaconda3/envs/cmu_rag/lib/python3.11/site-packages (from aiohttp<4.0.0,>=3.8.3->langchain) (1.9.4)\n",
      "Requirement already satisfied: packaging>=19.0 in /home/raj/anaconda3/envs/cmu_rag/lib/python3.11/site-packages (from build>=1.0.3->chromadb) (23.2)\n",
      "Requirement already satisfied: pyproject_hooks in /home/raj/anaconda3/envs/cmu_rag/lib/python3.11/site-packages (from build>=1.0.3->chromadb) (1.0.0)\n",
      "Requirement already satisfied: marshmallow<4.0.0,>=3.18.0 in /home/raj/anaconda3/envs/cmu_rag/lib/python3.11/site-packages (from dataclasses-json<0.7,>=0.5.7->langchain) (3.20.2)\n",
      "Requirement already satisfied: typing-inspect<1,>=0.4.0 in /home/raj/anaconda3/envs/cmu_rag/lib/python3.11/site-packages (from dataclasses-json<0.7,>=0.5.7->langchain) (0.9.0)\n",
      "Requirement already satisfied: starlette<0.37.0,>=0.36.3 in /home/raj/anaconda3/envs/cmu_rag/lib/python3.11/site-packages (from fastapi>=0.95.2->chromadb) (0.36.3)\n",
      "Requirement already satisfied: jsonpointer>=1.9 in /home/raj/anaconda3/envs/cmu_rag/lib/python3.11/site-packages (from jsonpatch<2.0,>=1.33->langchain) (2.4)\n",
      "Requirement already satisfied: certifi>=14.05.14 in /home/raj/anaconda3/envs/cmu_rag/lib/python3.11/site-packages (from kubernetes>=28.1.0->chromadb) (2024.2.2)\n",
      "Requirement already satisfied: six>=1.9.0 in /home/raj/anaconda3/envs/cmu_rag/lib/python3.11/site-packages (from kubernetes>=28.1.0->chromadb) (1.16.0)\n",
      "Requirement already satisfied: python-dateutil>=2.5.3 in /home/raj/anaconda3/envs/cmu_rag/lib/python3.11/site-packages (from kubernetes>=28.1.0->chromadb) (2.8.2)\n",
      "Requirement already satisfied: google-auth>=1.0.1 in /home/raj/anaconda3/envs/cmu_rag/lib/python3.11/site-packages (from kubernetes>=28.1.0->chromadb) (2.28.1)\n",
      "Requirement already satisfied: websocket-client!=0.40.0,!=0.41.*,!=0.42.*,>=0.32.0 in /home/raj/anaconda3/envs/cmu_rag/lib/python3.11/site-packages (from kubernetes>=28.1.0->chromadb) (1.7.0)\n",
      "Requirement already satisfied: requests-oauthlib in /home/raj/anaconda3/envs/cmu_rag/lib/python3.11/site-packages (from kubernetes>=28.1.0->chromadb) (1.3.1)\n",
      "Requirement already satisfied: oauthlib>=3.2.2 in /home/raj/anaconda3/envs/cmu_rag/lib/python3.11/site-packages (from kubernetes>=28.1.0->chromadb) (3.2.2)\n",
      "Requirement already satisfied: urllib3>=1.24.2 in /home/raj/anaconda3/envs/cmu_rag/lib/python3.11/site-packages (from kubernetes>=28.1.0->chromadb) (2.2.1)\n",
      "Requirement already satisfied: anyio<5,>=3 in /home/raj/anaconda3/envs/cmu_rag/lib/python3.11/site-packages (from langchain-core<0.2,>=0.1.26->langchain) (4.3.0)\n",
      "Requirement already satisfied: coloredlogs in /home/raj/anaconda3/envs/cmu_rag/lib/python3.11/site-packages (from onnxruntime>=1.14.1->chromadb) (15.0.1)\n",
      "Requirement already satisfied: flatbuffers in /home/raj/anaconda3/envs/cmu_rag/lib/python3.11/site-packages (from onnxruntime>=1.14.1->chromadb) (23.5.26)\n",
      "Requirement already satisfied: protobuf in /home/raj/anaconda3/envs/cmu_rag/lib/python3.11/site-packages (from onnxruntime>=1.14.1->chromadb) (4.25.3)\n",
      "Requirement already satisfied: sympy in /home/raj/anaconda3/envs/cmu_rag/lib/python3.11/site-packages (from onnxruntime>=1.14.1->chromadb) (1.12)\n",
      "Requirement already satisfied: deprecated>=1.2.6 in /home/raj/anaconda3/envs/cmu_rag/lib/python3.11/site-packages (from opentelemetry-api>=1.2.0->chromadb) (1.2.14)\n",
      "Requirement already satisfied: importlib-metadata<7.0,>=6.0 in /home/raj/anaconda3/envs/cmu_rag/lib/python3.11/site-packages (from opentelemetry-api>=1.2.0->chromadb) (6.11.0)\n",
      "Requirement already satisfied: googleapis-common-protos~=1.52 in /home/raj/anaconda3/envs/cmu_rag/lib/python3.11/site-packages (from opentelemetry-exporter-otlp-proto-grpc>=1.2.0->chromadb) (1.62.0)\n",
      "Requirement already satisfied: opentelemetry-exporter-otlp-proto-common==1.23.0 in /home/raj/anaconda3/envs/cmu_rag/lib/python3.11/site-packages (from opentelemetry-exporter-otlp-proto-grpc>=1.2.0->chromadb) (1.23.0)\n",
      "Requirement already satisfied: opentelemetry-proto==1.23.0 in /home/raj/anaconda3/envs/cmu_rag/lib/python3.11/site-packages (from opentelemetry-exporter-otlp-proto-grpc>=1.2.0->chromadb) (1.23.0)\n",
      "Requirement already satisfied: opentelemetry-instrumentation-asgi==0.44b0 in /home/raj/anaconda3/envs/cmu_rag/lib/python3.11/site-packages (from opentelemetry-instrumentation-fastapi>=0.41b0->chromadb) (0.44b0)\n",
      "Requirement already satisfied: opentelemetry-instrumentation==0.44b0 in /home/raj/anaconda3/envs/cmu_rag/lib/python3.11/site-packages (from opentelemetry-instrumentation-fastapi>=0.41b0->chromadb) (0.44b0)\n",
      "Requirement already satisfied: opentelemetry-semantic-conventions==0.44b0 in /home/raj/anaconda3/envs/cmu_rag/lib/python3.11/site-packages (from opentelemetry-instrumentation-fastapi>=0.41b0->chromadb) (0.44b0)\n",
      "Requirement already satisfied: opentelemetry-util-http==0.44b0 in /home/raj/anaconda3/envs/cmu_rag/lib/python3.11/site-packages (from opentelemetry-instrumentation-fastapi>=0.41b0->chromadb) (0.44b0)\n",
      "Requirement already satisfied: setuptools>=16.0 in /home/raj/anaconda3/envs/cmu_rag/lib/python3.11/site-packages (from opentelemetry-instrumentation==0.44b0->opentelemetry-instrumentation-fastapi>=0.41b0->chromadb) (68.2.2)\n",
      "Requirement already satisfied: wrapt<2.0.0,>=1.0.0 in /home/raj/anaconda3/envs/cmu_rag/lib/python3.11/site-packages (from opentelemetry-instrumentation==0.44b0->opentelemetry-instrumentation-fastapi>=0.41b0->chromadb) (1.16.0)\n",
      "Requirement already satisfied: asgiref~=3.0 in /home/raj/anaconda3/envs/cmu_rag/lib/python3.11/site-packages (from opentelemetry-instrumentation-asgi==0.44b0->opentelemetry-instrumentation-fastapi>=0.41b0->chromadb) (3.7.2)\n",
      "Requirement already satisfied: monotonic>=1.5 in /home/raj/anaconda3/envs/cmu_rag/lib/python3.11/site-packages (from posthog>=2.4.0->chromadb) (1.6)\n",
      "Requirement already satisfied: backoff>=1.10.0 in /home/raj/anaconda3/envs/cmu_rag/lib/python3.11/site-packages (from posthog>=2.4.0->chromadb) (2.2.1)\n",
      "Requirement already satisfied: annotated-types>=0.4.0 in /home/raj/anaconda3/envs/cmu_rag/lib/python3.11/site-packages (from pydantic<3,>=1->langchain) (0.6.0)\n",
      "Requirement already satisfied: pydantic-core==2.16.3 in /home/raj/anaconda3/envs/cmu_rag/lib/python3.11/site-packages (from pydantic<3,>=1->langchain) (2.16.3)\n",
      "Requirement already satisfied: charset-normalizer<4,>=2 in /home/raj/anaconda3/envs/cmu_rag/lib/python3.11/site-packages (from requests<3,>=2->langchain) (3.3.2)\n",
      "Requirement already satisfied: idna<4,>=2.5 in /home/raj/anaconda3/envs/cmu_rag/lib/python3.11/site-packages (from requests<3,>=2->langchain) (3.6)\n",
      "Requirement already satisfied: greenlet!=0.4.17 in /home/raj/anaconda3/envs/cmu_rag/lib/python3.11/site-packages (from SQLAlchemy<3,>=1.4->langchain) (3.0.3)\n",
      "Requirement already satisfied: huggingface_hub<1.0,>=0.16.4 in /home/raj/anaconda3/envs/cmu_rag/lib/python3.11/site-packages (from tokenizers>=0.13.2->chromadb) (0.20.3)\n",
      "Requirement already satisfied: click<9.0.0,>=7.1.1 in /home/raj/anaconda3/envs/cmu_rag/lib/python3.11/site-packages (from typer>=0.9.0->chromadb) (8.1.7)\n",
      "Requirement already satisfied: h11>=0.8 in /home/raj/anaconda3/envs/cmu_rag/lib/python3.11/site-packages (from uvicorn>=0.18.3->uvicorn[standard]>=0.18.3->chromadb) (0.14.0)\n",
      "Requirement already satisfied: httptools>=0.5.0 in /home/raj/anaconda3/envs/cmu_rag/lib/python3.11/site-packages (from uvicorn[standard]>=0.18.3->chromadb) (0.6.1)\n",
      "Requirement already satisfied: python-dotenv>=0.13 in /home/raj/anaconda3/envs/cmu_rag/lib/python3.11/site-packages (from uvicorn[standard]>=0.18.3->chromadb) (1.0.1)\n",
      "Requirement already satisfied: uvloop!=0.15.0,!=0.15.1,>=0.14.0 in /home/raj/anaconda3/envs/cmu_rag/lib/python3.11/site-packages (from uvicorn[standard]>=0.18.3->chromadb) (0.19.0)\n",
      "Requirement already satisfied: watchfiles>=0.13 in /home/raj/anaconda3/envs/cmu_rag/lib/python3.11/site-packages (from uvicorn[standard]>=0.18.3->chromadb) (0.21.0)\n",
      "Requirement already satisfied: websockets>=10.4 in /home/raj/anaconda3/envs/cmu_rag/lib/python3.11/site-packages (from uvicorn[standard]>=0.18.3->chromadb) (12.0)\n",
      "Requirement already satisfied: soupsieve>1.2 in /home/raj/anaconda3/envs/cmu_rag/lib/python3.11/site-packages (from beautifulsoup4->bs4) (2.5)\n",
      "Requirement already satisfied: sniffio>=1.1 in /home/raj/anaconda3/envs/cmu_rag/lib/python3.11/site-packages (from anyio<5,>=3->langchain-core<0.2,>=0.1.26->langchain) (1.3.0)\n",
      "Requirement already satisfied: cachetools<6.0,>=2.0.0 in /home/raj/anaconda3/envs/cmu_rag/lib/python3.11/site-packages (from google-auth>=1.0.1->kubernetes>=28.1.0->chromadb) (5.3.2)\n",
      "Requirement already satisfied: pyasn1-modules>=0.2.1 in /home/raj/anaconda3/envs/cmu_rag/lib/python3.11/site-packages (from google-auth>=1.0.1->kubernetes>=28.1.0->chromadb) (0.3.0)\n",
      "Requirement already satisfied: rsa<5,>=3.1.4 in /home/raj/anaconda3/envs/cmu_rag/lib/python3.11/site-packages (from google-auth>=1.0.1->kubernetes>=28.1.0->chromadb) (4.9)\n",
      "Requirement already satisfied: filelock in /home/raj/anaconda3/envs/cmu_rag/lib/python3.11/site-packages (from huggingface_hub<1.0,>=0.16.4->tokenizers>=0.13.2->chromadb) (3.13.1)\n",
      "Requirement already satisfied: fsspec>=2023.5.0 in /home/raj/anaconda3/envs/cmu_rag/lib/python3.11/site-packages (from huggingface_hub<1.0,>=0.16.4->tokenizers>=0.13.2->chromadb) (2024.2.0)\n",
      "Requirement already satisfied: zipp>=0.5 in /home/raj/anaconda3/envs/cmu_rag/lib/python3.11/site-packages (from importlib-metadata<7.0,>=6.0->opentelemetry-api>=1.2.0->chromadb) (3.17.0)\n",
      "Requirement already satisfied: mypy-extensions>=0.3.0 in /home/raj/anaconda3/envs/cmu_rag/lib/python3.11/site-packages (from typing-inspect<1,>=0.4.0->dataclasses-json<0.7,>=0.5.7->langchain) (1.0.0)\n",
      "Requirement already satisfied: humanfriendly>=9.1 in /home/raj/anaconda3/envs/cmu_rag/lib/python3.11/site-packages (from coloredlogs->onnxruntime>=1.14.1->chromadb) (10.0)\n",
      "Requirement already satisfied: mpmath>=0.19 in /home/raj/anaconda3/envs/cmu_rag/lib/python3.11/site-packages (from sympy->onnxruntime>=1.14.1->chromadb) (1.3.0)\n",
      "Requirement already satisfied: pyasn1<0.6.0,>=0.4.6 in /home/raj/anaconda3/envs/cmu_rag/lib/python3.11/site-packages (from pyasn1-modules>=0.2.1->google-auth>=1.0.1->kubernetes>=28.1.0->chromadb) (0.5.1)\n",
      "Note: you may need to restart the kernel to use updated packages.\n"
     ]
    }
   ],
   "source": [
    "%pip install --upgrade  langchain langchain-community langchainhub gpt4all chromadb bs4\n",
    "\n",
    "from langchain import hub\n",
    "from langchain.text_splitter import RecursiveCharacterTextSplitter\n",
    "from langchain_community.document_loaders import WebBaseLoader\n",
    "from langchain_community.embeddings import OllamaEmbeddings, GPT4AllEmbeddings\n",
    "from langchain_community.vectorstores import Chroma\n",
    "from langchain_community.llms import LlamaCpp, Ollama\n",
    "from langchain_core.output_parsers import StrOutputParser\n",
    "from langchain_core.prompts import PromptTemplate\n",
    "from langchain_core.runnables import RunnablePassthrough, RunnablePick"
   ]
  },
  {
   "cell_type": "code",
   "execution_count": 2,
   "metadata": {},
   "outputs": [
    {
     "name": "stdout",
     "output_type": "stream",
     "text": [
      "loader downloaded\n"
     ]
    }
   ],
   "source": [
    "loader = WebBaseLoader(\"https://lilianweng.github.io/posts/2023-06-23-agent/\")\n",
    "# print(\"loader downloaded\")\n",
    "data = loader.load()\n",
    "text_splitter = RecursiveCharacterTextSplitter(chunk_size=500, chunk_overlap=0)\n",
    "all_splits = text_splitter.split_documents(data)"
   ]
  },
  {
   "cell_type": "code",
   "execution_count": 8,
   "metadata": {},
   "outputs": [
    {
     "data": {
      "text/plain": [
       "Document(page_content='Sensory Memory: This is the earliest stage of memory, providing the ability to retain impressions of sensory information (visual, auditory, etc) after the original stimuli have ended. Sensory memory typically only lasts for up to a few seconds. Subcategories include iconic memory (visual), echoic memory (auditory), and haptic memory (touch).', metadata={'description': 'Building agents with LLM (large language model) as its core controller is a cool concept. Several proof-of-concepts demos, such as AutoGPT, GPT-Engineer and BabyAGI, serve as inspiring examples. The potentiality of LLM extends beyond generating well-written copies, stories, essays and programs; it can be framed as a powerful general problem solver.\\nAgent System Overview In a LLM-powered autonomous agent system, LLM functions as the agent’s brain, complemented by several key components:', 'language': 'en', 'source': 'https://lilianweng.github.io/posts/2023-06-23-agent/', 'title': \"LLM Powered Autonomous Agents | Lil'Log\"})"
      ]
     },
     "execution_count": 8,
     "metadata": {},
     "output_type": "execute_result"
    }
   ],
   "source": [
    "\n",
    "vectorstore = Chroma.from_documents(documents=all_splits, embedding=OllamaEmbeddings())\n",
    "\n",
    "question = \"What are the approaches to Task Decomposition?\"\n",
    "docs = vectorstore.similarity_search(question)\n",
    "len(docs)\n",
    "docs[0]"
   ]
  },
  {
   "cell_type": "code",
   "execution_count": 3,
   "metadata": {},
   "outputs": [
    {
     "name": "stdout",
     "output_type": "stream",
     "text": [
      "/bin/bash: /Users/rlm/miniforge3/envs/llama/bin/pip: No such file or directory\n"
     ]
    }
   ],
   "source": [
    "# %pip install --upgrade --quiet  llama-cpp-python\n",
    "!CMAKE_ARGS=\"-DLLAMA_METAL=on\" FORCE_CMAKE=1 /Users/rlm/miniforge3/envs/llama/bin/pip install -U llama-cpp-python --no-cache-dir"
   ]
  },
  {
   "cell_type": "code",
   "execution_count": 4,
   "metadata": {},
   "outputs": [
    {
     "data": {
      "text/plain": [
       "'(The scene is set in a dimly lit underground hip-hop club. The crowd is packed tightly together, cheering and holding up their phones to record the impending rap battle. Stephen Colbert and John Oliver stand facing each other on opposite sides of the stage, both dressed in their best \"I\\'m a comedian, not a rapper\" outfits. The emcee introduces them.)\\n\\nEmcee: And now, folks, it\\'s time for the main event! The one and only Stephen Colbert versus the king of British comedy, John Oliver! Let\\'s see who comes out on top in this epic rap battle! (cheers and applause)\\n\\nStephen Colbert: (clears throat) Yo, John, I heard you\\'ve been talking smack about my rhymes. (grinning) Well, let me tell you something, buddy, I may not be the most politically correct guy in the room, but when it comes to rapping, I\\'m the real deal! (flexing his muscles for effect)\\n\\nJohn Oliver: (smirking) Oh, Stephen, you\\'re cute. But let me tell you something, my man, I may not look like a typical rapper, but I got skills, yo! (tapping his foot to an imaginary beat) And don\\'t get it twisted, I\\'m not just here to play second fiddle to your Trump-loving self. (chuckles from the crowd)\\n\\nStephen Colbert: (offended) Trump-loving?! (shaking head) You think you can diss the President and get away with it?! (angrily) Newsflash, John, the man\\'s a demigod! He\\'s the reason why America\\'s great again! (chest thumping)\\n\\nJohn Oliver: (laughing) Oh boy, Stephen, you really are stuck in the past. (rolling his eyes) The President may have made America great again for some people, but let me tell you, he\\'s also made a lot of other things great again... like my bank account! (winking at the crowd)\\n\\nStephen Colbert: (outraged) How dare you! (stomping feet) You think making jokes about Trump\\'s hair is funny?! (huffing) Well, let me tell you something, John, when it comes to comedy, I\\'m the real deal! (flexing muscles again)\\n\\nJohn Oliver: (grinning) Oh, Stephen, you really are clueless. (chuckles) Comedy isn\\'t just about making jokes about the President\\'s hairdo, my man. It\\'s about commenting on the issues that matter... like how Trump\\'s tax plan is gonna screw over the little guy! (pauses for dramatic effect)\\n\\nStephen Colbert: (exasperated) Tax plan?! (scoffs) You think taxes are the biggest issue facing America right now?! (shrugs) Let me tell you something, John, the real issue is... (dramatic pause) ...the state of late-night TV! (winks at the crowd)\\n\\nJohn Oliver: (surprised) Late-night TV?! (laughs) Oh boy, Stephen, you really are living in a bubble. (chuckles) The real issue is... (dramatic pause) ...the state of democracy itself! (points to the crowd) You see, folks, when we\\'re not paying attention, these guys can get away with anything! (winks at the crowd)\\n\\n(The crowd cheers and chants \"Colbert! Oliver!\")\\n\\nEmcee: And there you have it, folks! Two comedic legends going head to head in this epic rap battle. Who do you think comes out on top? Let us know in the comments below! (cheers and applause)\\n\\nStephen Colbert: (smirking) Well, John, I may not have won over the crowd, but I think I\\'ve made my point... (winks at the camera) ...and that point is, when it comes to comedy, I\\'m the real deal! (flexes muscles one last time before exiting the stage.)\\n\\nJohn Oliver: (grinning) And as for you, John, well, let me just say... (chuckles) ...you may not have won over the crowd, but you sure did make me laugh! (winks at the camera) Until next time, folks! Keep on laughing and resisting that guy! (points to Stephen Colbert before exiting the stage.)'"
      ]
     },
     "execution_count": 4,
     "metadata": {},
     "output_type": "execute_result"
    }
   ],
   "source": [
    "n_gpu_layers = 1  # Metal set to 1 is enough.\n",
    "n_batch = 512  # Should be between 1 and n_ctx, consider the amount of RAM of your Apple Silicon Chip.\n",
    "llm = Ollama(model=\"llama2\")\n",
    "llm.invoke(\"Simulate a rap battle between Stephen Colbert and John Oliver\")"
   ]
  },
  {
   "cell_type": "code",
   "execution_count": 11,
   "metadata": {},
   "outputs": [
    {
     "data": {
      "text/plain": [
       "'The main themes in these retrieved documents are:\\n\\n1. Sensory Memory: This theme is focused on the earliest stage of memory, which allows individuals to retain impressions of sensory information (visual, auditory, etc.) after the original stimuli have ended. Subcategories include iconic memory (visual), echoic memory (auditory), and haptic memory (touch).\\n2. Tool Use: This theme encompasses the use of tools to augment large language models, such as ChemCrow, which allows for chemistry tools to be used with these models, and Scientific Discovery Agent, a generative agent simulation that demonstrates the potential for large language models to perform scientific discovery tasks. Other proof-of-concept examples include Generative Agents Simulation and Emergent Autonomous Scientific Research Capabilities of Large Language Models.\\n3. Component Three: Tool Use - Case Studies, Challenges, Citation, and References. This section provides detailed information on the tool use aspect of the architecture, including case studies, proof-of-concept examples, challenges, and references.'"
      ]
     },
     "execution_count": 11,
     "metadata": {},
     "output_type": "execute_result"
    }
   ],
   "source": [
    "# Prompt\n",
    "prompt = PromptTemplate.from_template(\n",
    "    \"Summarize the main themes in these retrieved docs: {docs}\"\n",
    ")\n",
    "\n",
    "# Chain\n",
    "def format_docs(docs):\n",
    "    return \"\\n\\n\".join(doc.page_content for doc in docs)\n",
    "\n",
    "\n",
    "chain = {\"docs\": format_docs} | prompt | llm | StrOutputParser()\n",
    "\n",
    "# Run\n",
    "question = \"What are the approaches to Task Decomposition?\"\n",
    "docs = vectorstore.similarity_search(question)\n",
    "\n",
    "print(type(docs))\n",
    "chain.invoke(docs)"
   ]
  },
  {
   "cell_type": "code",
   "execution_count": 5,
   "metadata": {},
   "outputs": [
    {
     "ename": "NameError",
     "evalue": "name 'RunnablePassthrough' is not defined",
     "output_type": "error",
     "traceback": [
      "\u001b[0;31m---------------------------------------------------------------------------\u001b[0m",
      "\u001b[0;31mNameError\u001b[0m                                 Traceback (most recent call last)",
      "Cell \u001b[0;32mIn[5], line 8\u001b[0m\n\u001b[1;32m      4\u001b[0m rag_prompt\u001b[38;5;241m.\u001b[39mmessages\n\u001b[1;32m      6\u001b[0m \u001b[38;5;66;03m# Chain\u001b[39;00m\n\u001b[1;32m      7\u001b[0m chain \u001b[38;5;241m=\u001b[39m (\n\u001b[0;32m----> 8\u001b[0m     \u001b[43mRunnablePassthrough\u001b[49m\u001b[38;5;241m.\u001b[39massign(context\u001b[38;5;241m=\u001b[39mRunnablePick(\u001b[38;5;124m\"\u001b[39m\u001b[38;5;124mcontext\u001b[39m\u001b[38;5;124m\"\u001b[39m) \u001b[38;5;241m|\u001b[39m format_docs)\n\u001b[1;32m      9\u001b[0m     \u001b[38;5;241m|\u001b[39m rag_prompt\n\u001b[1;32m     10\u001b[0m     \u001b[38;5;241m|\u001b[39m llm\n\u001b[1;32m     11\u001b[0m     \u001b[38;5;241m|\u001b[39m StrOutputParser()\n\u001b[1;32m     12\u001b[0m )\n\u001b[1;32m     14\u001b[0m \u001b[38;5;66;03m# Run\u001b[39;00m\n\u001b[1;32m     15\u001b[0m chain\u001b[38;5;241m.\u001b[39minvoke({\u001b[38;5;124m\"\u001b[39m\u001b[38;5;124mcontext\u001b[39m\u001b[38;5;124m\"\u001b[39m: docs, \u001b[38;5;124m\"\u001b[39m\u001b[38;5;124mquestion\u001b[39m\u001b[38;5;124m\"\u001b[39m: question})\n",
      "\u001b[0;31mNameError\u001b[0m: name 'RunnablePassthrough' is not defined"
     ]
    }
   ],
   "source": [
    "from langchain import hub\n",
    "\n",
    "rag_prompt = hub.pull(\"rlm/rag-prompt\")\n",
    "rag_prompt.messages\n",
    "\n",
    "# Chain\n",
    "chain = (\n",
    "    RunnablePassthrough.assign(context=RunnablePick(\"context\") | format_docs)\n",
    "    | rag_prompt\n",
    "    | llm\n",
    "    | StrOutputParser()\n",
    ")\n",
    "\n",
    "# Run\n",
    "chain.invoke({\"context\": docs, \"question\": question})"
   ]
  },
  {
   "cell_type": "code",
   "execution_count": 7,
   "metadata": {},
   "outputs": [
    {
     "ename": "NameError",
     "evalue": "name 'RunnablePassthrough' is not defined",
     "output_type": "error",
     "traceback": [
      "\u001b[0;31m---------------------------------------------------------------------------\u001b[0m",
      "\u001b[0;31mNameError\u001b[0m                                 Traceback (most recent call last)",
      "Cell \u001b[0;32mIn[7], line 7\u001b[0m\n\u001b[1;32m      3\u001b[0m rag_prompt_llama\u001b[38;5;241m.\u001b[39mmessages\n\u001b[1;32m      5\u001b[0m \u001b[38;5;66;03m# Chain\u001b[39;00m\n\u001b[1;32m      6\u001b[0m chain \u001b[38;5;241m=\u001b[39m (\n\u001b[0;32m----> 7\u001b[0m     \u001b[43mRunnablePassthrough\u001b[49m\u001b[38;5;241m.\u001b[39massign(context\u001b[38;5;241m=\u001b[39mRunnablePick(\u001b[38;5;124m\"\u001b[39m\u001b[38;5;124mcontext\u001b[39m\u001b[38;5;124m\"\u001b[39m) \u001b[38;5;241m|\u001b[39m format_docs)\n\u001b[1;32m      8\u001b[0m     \u001b[38;5;241m|\u001b[39m rag_prompt_llama\n\u001b[1;32m      9\u001b[0m     \u001b[38;5;241m|\u001b[39m llm\n\u001b[1;32m     10\u001b[0m     \u001b[38;5;241m|\u001b[39m StrOutputParser()\n\u001b[1;32m     11\u001b[0m )\n\u001b[1;32m     13\u001b[0m \u001b[38;5;66;03m# Run\u001b[39;00m\n\u001b[1;32m     14\u001b[0m \u001b[38;5;28mprint\u001b[39m(question)\n",
      "\u001b[0;31mNameError\u001b[0m: name 'RunnablePassthrough' is not defined"
     ]
    }
   ],
   "source": [
    "# Prompt\n",
    "rag_prompt_llama = hub.pull(\"rlm/rag-prompt-llama\")\n",
    "rag_prompt_llama.messages\n",
    "\n",
    "# Chain\n",
    "chain = (\n",
    "    RunnablePassthrough.assign(context=RunnablePick(\"context\") | format_docs)\n",
    "    | rag_prompt_llama\n",
    "    | llm\n",
    "    | StrOutputParser()\n",
    ")\n",
    "\n",
    "# Run\n",
    "print(question)\n",
    "chain.invoke({\"context\": docs, \"question\": question})"
   ]
  },
  {
   "cell_type": "code",
   "execution_count": 6,
   "metadata": {},
   "outputs": [
    {
     "ename": "NameError",
     "evalue": "name 'vectorstore' is not defined",
     "output_type": "error",
     "traceback": [
      "\u001b[0;31m---------------------------------------------------------------------------\u001b[0m",
      "\u001b[0;31mNameError\u001b[0m                                 Traceback (most recent call last)",
      "Cell \u001b[0;32mIn[6], line 1\u001b[0m\n\u001b[0;32m----> 1\u001b[0m retriever \u001b[38;5;241m=\u001b[39m \u001b[43mvectorstore\u001b[49m\u001b[38;5;241m.\u001b[39mas_retriever()\n\u001b[1;32m      2\u001b[0m qa_chain \u001b[38;5;241m=\u001b[39m (\n\u001b[1;32m      3\u001b[0m     {\u001b[38;5;124m\"\u001b[39m\u001b[38;5;124mcontext\u001b[39m\u001b[38;5;124m\"\u001b[39m: retriever \u001b[38;5;241m|\u001b[39m format_docs, \u001b[38;5;124m\"\u001b[39m\u001b[38;5;124mquestion\u001b[39m\u001b[38;5;124m\"\u001b[39m: RunnablePassthrough()}\n\u001b[1;32m      4\u001b[0m     \u001b[38;5;241m|\u001b[39m rag_prompt\n\u001b[1;32m      5\u001b[0m     \u001b[38;5;241m|\u001b[39m llm\n\u001b[1;32m      6\u001b[0m     \u001b[38;5;241m|\u001b[39m StrOutputParser()\n\u001b[1;32m      7\u001b[0m )\n\u001b[1;32m      9\u001b[0m question \u001b[38;5;241m=\u001b[39m \u001b[38;5;124m\"\u001b[39m\u001b[38;5;124mWHy did DUmbdledore die ?\u001b[39m\u001b[38;5;124m\"\u001b[39m\n",
      "\u001b[0;31mNameError\u001b[0m: name 'vectorstore' is not defined"
     ]
    }
   ],
   "source": [
    "retriever = vectorstore.as_retriever()\n",
    "qa_chain = (\n",
    "    {\"context\": retriever | format_docs, \"question\": RunnablePassthrough()}\n",
    "    | rag_prompt\n",
    "    | llm\n",
    "    | StrOutputParser()\n",
    ")\n",
    "\n",
    "question = \"WHy did DUmbdledore die ?\"\n",
    "print(question)\n",
    "qa_chain.invoke(question)"
   ]
  },
  {
   "cell_type": "code",
   "execution_count": 26,
   "metadata": {},
   "outputs": [
    {
     "name": "stdout",
     "output_type": "stream",
     "text": [
      "WHy did DUmbdledore die ?\n"
     ]
    },
    {
     "data": {
      "text/plain": [
       "\"I'm just an AI and do not have access to the personal information or circumstances of Professor Dumbdledore, so I cannot provide a definitive answer to why he died. However, based on the context provided, it is possible that Professor Dumbdledore died due to natural causes such as old age or illness, or possibly an accident or injury related to his work in the wizarding world. Without more information, I cannot provide a conclusive explanation for his death.\""
      ]
     },
     "execution_count": 26,
     "metadata": {},
     "output_type": "execute_result"
    }
   ],
   "source": [
    "# Read text files\n",
    "from langchain_community.document_loaders import FileLoader\n",
    "\n",
    "loader = FileLoader(\"../data/documents/\")"
   ]
  },
  {
   "cell_type": "code",
   "execution_count": 19,
   "metadata": {},
   "outputs": [
    {
     "name": "stdout",
     "output_type": "stream",
     "text": [
      "schedules_part_85000\n",
      "lti_programs_part_0\n"
     ]
    }
   ],
   "source": [
    "import os\n",
    "\n",
    "from langchain_community.document_loaders import TextLoader\n",
    "\n",
    "BASE_DIR = '/home/raj/anlp/cmu-rag/data/documents/combined_txt_files_length_normalized/'\n",
    "\n",
    "\n",
    "docs = []\n",
    "for file in os.listdir(BASE_DIR):\n",
    "    # if file.endswith(\".txt\"):\n",
    "    print(file)\n",
    "    if 'schedule'in file:\n",
    "        continue\n",
    "    loader = TextLoader(BASE_DIR + file)\n",
    "    docs.extend(loader.load())\n",
    "    break\n",
    "\n",
    "text_splitter = RecursiveCharacterTextSplitter(chunk_size=500, chunk_overlap=2)\n",
    "all_splits = text_splitter.split_documents(docs)\n",
    "\n",
    "vectorstore = Chroma.from_documents(documents=all_splits, embedding=OllamaEmbeddings())"
   ]
  },
  {
   "cell_type": "code",
   "execution_count": 15,
   "metadata": {},
   "outputs": [],
   "source": [
    "retriever = vectorstore.as_retriever()\n",
    "\n",
    "def format_docs(docs):\n",
    "    return \"\\n\\n\".join(doc.page_content for doc in docs)\n",
    "\n",
    "prompt = PromptTemplate.from_template(\n",
    "    \"Answer questions on CMU from these documents\"\n",
    ")\n",
    "\n",
    "llm = Ollama(model=\"llama2\")\n",
    "\n",
    "qa_chain = (\n",
    "    {\"context\": retriever, \"question\": RunnablePassthrough()}\n",
    "    | prompt\n",
    "    | llm\n",
    "    | StrOutputParser()\n",
    ")"
   ]
  },
  {
   "cell_type": "code",
   "execution_count": 16,
   "metadata": {},
   "outputs": [
    {
     "data": {
      "text/plain": [
       "\"\\nSure, I'd be happy to help! Can you provide the documents related to Carnegie Mellon University (CMU)? Once I have access to them, I can answer any questions you may have based on the information provided in the documents.\""
      ]
     },
     "execution_count": 16,
     "metadata": {},
     "output_type": "execute_result"
    }
   ],
   "source": [
    "questions = ['Which course has course number of 24492 ?', ]\n",
    "\n",
    "qa_chain.invoke(questions)"
   ]
  },
  {
   "cell_type": "code",
   "execution_count": 20,
   "metadata": {},
   "outputs": [
    {
     "name": "stdout",
     "output_type": "stream",
     "text": [
      "[Document(page_content='Semester: Fall 2023\\nCategory: Modern Languages\\nCourse: 82789\\nTitle: Guided Research\\nUnits: 3-36\\nLec/Sec: G\\nDays: TBA\\nBegin: \\nEnd: \\nBldg/Room: DNM DNM\\nLocation: Pittsburgh, Pennsylvania\\nInstructor(s): Instructor TBA\\n\\nSemester: Fall 2023\\nCategory: Modern Languages\\nCourse: 82789\\nTitle: Guided Research\\nUnits: 3-36\\nLec/Sec: H\\nDays: TBA\\nBegin: \\nEnd: \\nBldg/Room: DNM DNM\\nLocation: Pittsburgh, Pennsylvania\\nInstructor(s): Instructor TBA', metadata={'source': '/home/raj/anlp/cmu-rag/data/documents/combined_txt_files_length_normalized/schedules_part_85000'}), Document(page_content='Semester: Fall 2023\\nCategory: Modern Languages\\nCourse: 82599\\nTitle: Russian Studies Thesis\\nUnits: 3-6\\nLec/Sec: A\\nDays: TBA\\nBegin: \\nEnd: \\nBldg/Room: DNM DNM\\nLocation: Pittsburgh, Pennsylvania\\nInstructor(s): Instructor TBA\\n\\nSemester: Fall 2023\\nCategory: Modern Languages\\nCourse: 82599\\nTitle: Russian Studies Thesis\\nUnits: 3-6\\nLec/Sec: B\\nDays: TBA\\nBegin: \\nEnd: \\nBldg/Room: DNM DNM\\nLocation: Pittsburgh, Pennsylvania\\nInstructor(s): Instructor TBA', metadata={'source': '/home/raj/anlp/cmu-rag/data/documents/combined_txt_files_length_normalized/schedules_part_85000'}), Document(page_content='In addition to the SCS guidelines, the LTI requires:\\nAny outside funding you are receiving must be accompanied by an official award letter.\\nNo incomplete applications will be eligible for consideration.\\nFor specific application/admissions questions, please contact\\xa0Jennifer Lucas\\xa0or Caitlin Korpus.\\nHandbook: For a complete breakdown of the MCDS program and its policies, including information about internships, please view the MCDS Handbook.', metadata={'source': '/home/raj/anlp/cmu-rag/data/documents/combined_txt_files_length_normalized/lti_programs_part_0'}), Document(page_content='Semester: Fall 2023\\nCategory: Mechanical Engineering\\nCourse: 24688\\nTitle: Introduction to CAD and CAE Tools\\nUnits: 12.0\\nLec/Sec: Lec\\nDays: F\\nBegin: 01:00PM\\nEnd: 02:50PM\\nBldg/Room: CMU REMOTE\\nLocation: Pittsburgh, Pennsylvania\\nInstructor(s): Ozel\\n\\nSemester: Fall 2023\\nCategory: Mechanical Engineering\\nCourse: 24688\\nTitle: Introduction to CAD and CAE Tools\\nUnits: 12.0\\nLec/Sec: A\\nDays: T\\nBegin: 11:00AM\\nEnd: 12:20PM\\nBldg/Room: CMU REMOTE\\nLocation: Pittsburgh, Pennsylvania\\nInstructor(s): Ozel', metadata={'source': '/home/raj/anlp/cmu-rag/data/documents/combined_txt_files_length_normalized/schedules_part_85000'})]\n"
     ]
    },
    {
     "data": {
      "text/plain": [
       "\"\\nI'm happy to help you with your questions about Carnegie Mellon University (CMU) based on the provided documents. Please go ahead and ask your questions, and I'll do my best to provide helpful answers.\""
      ]
     },
     "execution_count": 20,
     "metadata": {},
     "output_type": "execute_result"
    }
   ],
   "source": [
    "question = questions[0]\n",
    "docs = vectorstore.similarity_search(question)\n",
    "len(docs)\n",
    "docs[0]\n",
    "\n",
    "chain = {\"docs\": format_docs} | prompt | llm | StrOutputParser()\n",
    "\n",
    "# Run\n",
    "question = \"What are the approaches to Task Decomposition?\"\n",
    "doc = vectorstore.similarity_search(question)\n",
    "\n",
    "print(doc)\n",
    "\n",
    "# print(type(doc))\n",
    "chain.invoke(doc)"
   ]
  }
 ],
 "metadata": {
  "kernelspec": {
   "display_name": "cmu_rag",
   "language": "python",
   "name": "python3"
  },
  "language_info": {
   "codemirror_mode": {
    "name": "ipython",
    "version": 3
   },
   "file_extension": ".py",
   "mimetype": "text/x-python",
   "name": "python",
   "nbconvert_exporter": "python",
   "pygments_lexer": "ipython3",
   "version": "3.11.7"
  }
 },
 "nbformat": 4,
 "nbformat_minor": 2
}
