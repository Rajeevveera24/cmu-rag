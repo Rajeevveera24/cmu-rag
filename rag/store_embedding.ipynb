{
 "cells": [
  {
   "cell_type": "code",
   "execution_count": 2,
   "metadata": {},
   "outputs": [],
   "source": [
    "# %pip install -r ../requirements.txt\n",
    "# %pip install --quiet --upgrade  langchain langchain-community langchainhub gpt4all chromadb bs4 torch transformers\n",
    "# !pip freeze >> ../requirements.txt\n",
    "\n",
    "import os, time\n",
    "import chromadb\n",
    "\n",
    "from langchain.text_splitter import RecursiveCharacterTextSplitter\n",
    "from langchain_community.embeddings import OllamaEmbeddings\n",
    "from langchain_community.vectorstores import Chroma\n",
    "from langchain_community.document_loaders import TextLoader\n",
    "from langchain_community.embeddings import HuggingFaceBgeEmbeddings\n",
    "\n",
    "from chromadb.errors import InvalidDimensionException"
   ]
  },
  {
   "cell_type": "code",
   "execution_count": 3,
   "metadata": {},
   "outputs": [],
   "source": [
    "BASE_DIR = '/home/raj/nlp/cmu-rag/rag'\n",
    "BASE_DIR_TXT_FILES = '/home/raj/nlp/cmu-rag/helper/combined_txt_files/'\n",
    "DATABASE_PATH = '/home/raj/nlp/cmu-rag/rag/chroma/txt/'\n",
    "\n",
    "EMBEDDING_OPTIONS = ['llama2', 'everythinglm', 'mistral', 'neural-chat', 'openchat', 'BGE']\n",
    "# print(\"Available embeddings: \", EMBEDDING_OPTIONS)"
   ]
  },
  {
   "cell_type": "code",
   "execution_count": 7,
   "metadata": {},
   "outputs": [],
   "source": [
    "def create_and_store_embedding(documents, embedding_model, embedding_model_name, persist_directory=DATABASE_PATH):\n",
    "    if not documents or not embedding_model:\n",
    "        raise Exception(\"Documents and embedding model are required for creating embeddings\")\n",
    "    \n",
    "    start_time = time.time()\n",
    "    # embedding_model_name = str(embedding_model.__class__)\n",
    "    print(\"Creating embeddings for: \", embedding_model_name)\n",
    "    vector_store = None\n",
    "    try:\n",
    "        vector_store = Chroma.from_documents(documents=documents, embedding=embedding_model, persist_directory=persist_directory + embedding_model_name)\n",
    "        vector_store.persist()\n",
    "        print(\"Embeddings created and stored for: \", embedding_model_name)\n",
    "    except InvalidDimensionException as e:\n",
    "        print(\"Invalid dimension for embedding: \", embedding_model_name)\n",
    "    except Exception as e:\n",
    "        print(\"Error: \", e)\n",
    "    finally:\n",
    "        end_time = time.time()\n",
    "    print(\"Operation completed in: \", str(end_time - start_time), \" seconds\")\n",
    "\n",
    "def retrieve_embeddings(embedding_model, embedding_model_name, persist_directory=DATABASE_PATH):\n",
    "    vector_store = None\n",
    "    # embedding_model_name = str(embedding_model.__class__)\n",
    "    try:\n",
    "        vector_store = Chroma.from_documents(embedding=embedding_model, persist_directory=persist_directory+embedding_model_name)\n",
    "    except Exception as e:\n",
    "        print(\"Error: \", e)\n",
    "    return vector_store\n",
    "\n",
    "def read_documents(dir=BASE_DIR_TXT_FILES):\n",
    "    documents = []\n",
    "    for file in os.listdir(dir):\n",
    "        # if file.endswith(\".txt\"):\n",
    "        loader = TextLoader(BASE_DIR_TXT_FILES + file)\n",
    "        documents.extend(loader.load())\n",
    "    return documents\n",
    "\n",
    "def chunk_documents(documents, chunk_size=1000, chunk_overlap=0.1):\n",
    "    splitter = RecursiveCharacterTextSplitter(chunk_size=chunk_size, chunk_overlap=chunk_overlap*chunk_size)\n",
    "    chunks = splitter.split_documents(documents)\n",
    "    return chunks\n",
    "\n",
    "# def create_embeddings(documents, embedding_models, persist_directory=DATABASE_PATH):\n",
    "#     for model in embedding_models:\n",
    "#         create_and_store_embedding(documents=documents, embedding_model=model, persist_directory=persist_directory)"
   ]
  },
  {
   "cell_type": "code",
   "execution_count": 10,
   "metadata": {},
   "outputs": [
    {
     "name": "stdout",
     "output_type": "stream",
     "text": [
      "13\n",
      "Creating embeddings for:  bge-large-en\n",
      "Embeddings created and stored for:  bge-large-en\n",
      "Operation completed in:  416.1851649284363  seconds\n"
     ]
    }
   ],
   "source": [
    "model_name = \"BAAI/bge-large-en\"\n",
    "model_kwargs = {\"device\": \"cuda\"}\n",
    "encode_kwargs = {\"normalize_embeddings\": True}\n",
    "hf_bge_embedding = HuggingFaceBgeEmbeddings(\n",
    "    model_name=model_name, model_kwargs=model_kwargs, encode_kwargs=encode_kwargs\n",
    ")\n",
    "\n",
    "\n",
    "docs = read_documents()\n",
    "print(len(docs))\n",
    "chunks = chunk_documents(docs)\n",
    "vector_store = create_and_store_embedding(documents=chunks, embedding_model=hf_bge_embedding, embedding_model_name=\"bge-large-en\")"
   ]
  },
  {
   "cell_type": "code",
   "execution_count": 24,
   "metadata": {},
   "outputs": [
    {
     "data": {
      "text/plain": [
       "\"<class 'langchain_community.embeddings.huggingface.HuggingFaceBgeEmbeddings'>\""
      ]
     },
     "execution_count": 24,
     "metadata": {},
     "output_type": "execute_result"
    }
   ],
   "source": [
    "str(hf_bge_embedding.__class__)"
   ]
  }
 ],
 "metadata": {
  "kernelspec": {
   "display_name": "cmu_rag",
   "language": "python",
   "name": "python3"
  },
  "language_info": {
   "codemirror_mode": {
    "name": "ipython",
    "version": 3
   },
   "file_extension": ".py",
   "mimetype": "text/x-python",
   "name": "python",
   "nbconvert_exporter": "python",
   "pygments_lexer": "ipython3",
   "version": "3.12.2"
  }
 },
 "nbformat": 4,
 "nbformat_minor": 2
}
